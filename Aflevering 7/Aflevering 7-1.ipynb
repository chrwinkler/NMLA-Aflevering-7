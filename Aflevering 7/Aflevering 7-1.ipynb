{
 "cells": [
  {
   "cell_type": "markdown",
   "metadata": {},
   "source": [
    "<h1>Aflevering 7</h1>\n",
    "<h3>Hold CE2</h3>\n",
    "Gruppe: Alexander Bjerno & Christian Winkler"
   ]
  },
  {
   "cell_type": "code",
   "execution_count": 2,
   "metadata": {},
   "outputs": [],
   "source": [
    "import numpy as np\n",
    "import matplotlib.pyplot as plt\n"
   ]
  },
  {
   "cell_type": "markdown",
   "metadata": {},
   "source": [
    "<h3>(a)</h3>"
   ]
  },
  {
   "cell_type": "markdown",
   "metadata": {},
   "source": [
    "En parkeringsplads på 20 m × 30 m bliver oplyst via lamper placeret forskel-\n",
    "lige steder og i forskellige højde, som angivet i figur 1 side 3.\n",
    "Parkeringspladsen inddeles i en rektangulær gitter af 600 kvadrater hver\n",
    "af størrelse 1 m ×1 m . Tallet 𝑦𝑗 angiver belysningsniveauet i kvadrat 𝑗, for\n",
    "𝑗 =0,...,599. Lad 𝑥𝑖 angiver styrken af lampe 𝑖. Vi vælger enheder så at\n",
    "bidraget til belysningen i kvadrat 𝑗 fra lampe 𝑖 er 𝑥𝑖/𝑑2𝑖𝑗, hvor 𝑑𝑖𝑗 er afstanden i\n",
    "ℝ3 fra lampen til centrum af kvadrat 𝑗.\n",
    "(a) Angiv hvordan belysningsniveauet 𝑦 =(𝑦0,...,𝑦599) og styrkerne 𝑥 =\n",
    "(𝑥0,...,𝑥11) er relateret via et lineært ligningssystem. Opstil koefficientmatricen for systemet i python. (I må estimere koordinaterne for\n",
    "placeringen af hver lampe ud fra diagrammet.\n"
   ]
  },
  {
   "cell_type": "code",
   "execution_count": 18,
   "metadata": {},
   "outputs": [
    {
     "data": {
      "image/png": "[encoded data removed]",
      "text/plain": [
       "<Figure size 640x480 with 1 Axes>"
      ]
     },
     "metadata": {},
     "output_type": "display_data"
    }
   ],
   "source": [
    "import numpy as np\n",
    "\n",
    "# Estimate lamp coordinates from diagram\n",
    "lamp_coords = np.array([\n",
    "    [2., 3., 3.], [4., 19., 3.], [4., 13., 3.6], [11., 6., 3.5], [15., 2., 4.5], [20., 5., 2.8],\n",
    "    [28., 9., 3.4], [12., 12., 4.], [23., 12., 4.], [16., 16., 3.], [25., 16., 3.8], [13., 18., 3.6]\n",
    "])\n",
    "\n",
    "#Insert lamp coordinates in the grid\n",
    "parking = np.zeros(shape = (30, 20))\n",
    "for x in lamp_coords:\n",
    "    parking[int(x[0]), int(x[1])] = x[2]\n",
    "    \n",
    "n = np.linspace(0.0, 599.00, 600)\n",
    "j = np.zeros(shape = (600, 2))\n",
    "\n",
    "#Assigning the parking space grid j\n",
    "for x in n:\n",
    "    j[int(x)] = np.array([x%30, int(x/30)])\n",
    "\n",
    "\n",
    "def d_ij(i, j):\n",
    "    distance = np.sqrt(abs(i[0] - (j[0] + 0.5))**2 + abs(i[1] - (j[1] + 0.5 ))**2 )**2 + i[2]**2\n",
    "    return distance\n",
    "\n",
    "A = np.zeros(shape = (600, 12))\n",
    "\n",
    "for k in n:\n",
    "    for a in range(12):\n",
    "        A[int(k), int(a)] = 1 / d_ij(lamp_coords[int(a)], j[int(k)])\n",
    "\n",
    "#Set light strength for all lamps to 20\n",
    "xi = np.ones((12,1))*20\n",
    "\n",
    "light_map = np.zeros(shape = (30, 20))\n",
    "\n",
    "lighting = A @ xi\n",
    "\n",
    "for x in n:\n",
    "    light_map[int(j[int(x)][0]), int(j[int(x)][1])] = lighting[int(x)]\n",
    "    \n",
    "fig, ax = plt.subplots()\n",
    "\n",
    "im = ax.matshow(light_map.T, cmap='coolwarm')"
   ]
  },
  {
   "cell_type": "markdown",
   "metadata": {},
   "source": [
    "<h3>(c)</h3>"
   ]
  },
  {
   "cell_type": "code",
   "execution_count": null,
   "metadata": {},
   "outputs": [],
   "source": []
  },
  {
   "cell_type": "markdown",
   "metadata": {},
   "source": [
    "<h3>(d)</h3>"
   ]
  },
  {
   "cell_type": "code",
   "execution_count": null,
   "metadata": {},
   "outputs": [],
   "source": []
  },
  {
   "cell_type": "markdown",
   "metadata": {},
   "source": [
    "<h3>(e)</h3>"
   ]
  },
  {
   "cell_type": "code",
   "execution_count": null,
   "metadata": {},
   "outputs": [],
   "source": []
  }
 ],
 "metadata": {
  "kernelspec": {
   "display_name": "Python 3.9.13 ('base')",
   "language": "python",
   "name": "python3"
  },
  "language_info": {
   "codemirror_mode": {
    "name": "ipython",
    "version": 3
   },
   "file_extension": ".py",
   "mimetype": "text/x-python",
   "name": "python",
   "nbconvert_exporter": "python",
   "pygments_lexer": "ipython3",
   "version": "3.9.13"
  },
  "orig_nbformat": 4,
  "vscode": {
   "interpreter": {
    "hash": "7b34b089ce0dfc9935940e0a22050b2949fa617f7a2b73925623c261bed16aeb"
   }
  }
 },
 "nbformat": 4,
 "nbformat_minor": 2
}
