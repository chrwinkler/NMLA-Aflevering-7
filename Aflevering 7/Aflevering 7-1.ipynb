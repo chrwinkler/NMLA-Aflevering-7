{
 "cells": [
  {
   "cell_type": "markdown",
   "metadata": {},
   "source": [
    "<h1>Aflevering 7</h1>\n",
    "<h3>Hold CE2</h3>\n",
    "Gruppe: Alexander Bjerno & Christian Winkler"
   ]
  },
  {
   "cell_type": "code",
   "execution_count": 2,
   "metadata": {},
   "outputs": [],
   "source": [
    "import numpy as np\n",
    "import matplotlib.pyplot as plt\n"
   ]
  },
  {
   "cell_type": "markdown",
   "metadata": {},
   "source": [
    "<h3>(a)</h3>"
   ]
  },
  {
   "attachments": {},
   "cell_type": "markdown",
   "metadata": {},
   "source": [
    "Vi skal vise hvordan belysningsnieauet 0...599 er relateret til lysstyrken af lamperne, igennem et lineart ligningssystem hvorved vi skal opstille koefficientmatricen"
   ]
  },
  {
   "cell_type": "code",
   "execution_count": 25,
   "metadata": {},
   "outputs": [],
   "source": [
    "import numpy as np\n",
    "\n",
    "# Estimate lamp coordinates from diagram\n",
    "lamp_coords = np.array([\n",
    "    [2., 3., 3.], [4., 19., 3.], [4., 13., 3.6], [11., 6., 3.5], [15., 2., 4.5], [20., 5., 2.8],\n",
    "    [28., 9., 3.4], [12., 12., 4.], [23., 12., 4.], [16., 16., 3.], [25., 16., 3.8], [13., 18., 3.6]\n",
    "])\n",
    "\n",
    "#Insert lamp coordinates in the grid, first creates the 30*20 grid of zeroes, then fills with the lamp coordinates\n",
    "parking = np.zeros(shape = (30, 20))\n",
    "for x in lamp_coords:\n",
    "    parking[int(x[0]), int(x[1])] = x[2]\n",
    "    \n",
    "n = np.linspace(0.0, 599.00, 600)\n",
    "j = np.zeros(shape = (600, 2))\n",
    "\n",
    "#Assigning the parking space grid j\n",
    "for x in n:\n",
    "    j[int(x)] = np.array([x%30, int(x/30)])\n",
    "\n",
    "#Defining how to calculate the distance to the middle of each cell\n",
    "def d_ij(i, j):\n",
    "    distance = np.sqrt(abs(i[0] - (j[0] + 0.5))**2 + abs(i[1] - (j[1] + 0.5 ))**2 )**2 + i[2]**2\n",
    "    return distance\n",
    "\n",
    "A = np.zeros(shape = (600, 12))\n",
    "#Here we set up our koefficientmatrix A\n",
    "for k in n:\n",
    "    for a in range(12):\n",
    "        A[int(k), int(a)] = 1 / d_ij(lamp_coords[int(a)], j[int(k)])\n",
    "\n"
   ]
  },
  {
   "attachments": {},
   "cell_type": "markdown",
   "metadata": {},
   "source": [
    "b)\n",
    "Now we have to make a heatplot of the parking space showing the lighting level "
   ]
  },
  {
   "cell_type": "code",
   "execution_count": 43,
   "metadata": {},
   "outputs": [
    {
     "data": {
      "text/plain": [
       "<matplotlib.colorbar.Colorbar at 0x225adde0070>"
      ]
     },
     "execution_count": 43,
     "metadata": {},
     "output_type": "execute_result"
    },
    {
     "data": {
      "image/png": "[encoded data removed]",
      "text/plain": [
       "<Figure size 640x480 with 2 Axes>"
      ]
     },
     "metadata": {},
     "output_type": "display_data"
    }
   ],
   "source": [
    "\n",
    "#Set light strength for all lamps to 20\n",
    "xi = np.ones((12,1))*20\n",
    "\n",
    "light_map = np.zeros(shape = (30, 20))\n",
    "#The lighting from a lamp on a tile i given by xi*1/d_ij^2 where A = 1/d_ij^2\n",
    "lighting = A @ xi\n",
    "#Plotting our light_map with the the lighting information\n",
    "for x in n:\n",
    "    light_map[int(j[int(x)][0]), int(j[int(x)][1])] = lighting[int(x)]\n",
    "    \n",
    "fig, ax = plt.subplots()\n",
    "im = (ax.matshow(light_map.T, cmap='coolwarm', origin='lower')) #Plotting the heatmap\n",
    "fig.colorbar(im)\n"
   ]
  },
  {
   "cell_type": "code",
   "execution_count": null,
   "metadata": {},
   "outputs": [],
   "source": []
  }
 ],
 "metadata": {
  "kernelspec": {
   "display_name": "Python 3.11.1 64-bit",
   "language": "python",
   "name": "python3"
  },
  "language_info": {
   "codemirror_mode": {
    "name": "ipython",
    "version": 3
   },
   "file_extension": ".py",
   "mimetype": "text/x-python",
   "name": "python",
   "nbconvert_exporter": "python",
   "pygments_lexer": "ipython3",
   "version": "3.9.13"
  },
  "orig_nbformat": 4,
  "vscode": {
   "interpreter": {
    "hash": "aee8b7b246df8f9039afb4144a1f6fd8d2ca17a180786b69acc140d282b71a49"
   }
  }
 },
 "nbformat": 4,
 "nbformat_minor": 2
}
