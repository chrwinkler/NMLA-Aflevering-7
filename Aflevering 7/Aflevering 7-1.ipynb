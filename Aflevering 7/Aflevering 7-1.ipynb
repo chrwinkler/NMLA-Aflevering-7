{
 "cells": [
  {
   "cell_type": "markdown",
   "metadata": {},
   "source": [
    "<h1>Aflevering 7</h1>\n",
    "<h3>Hold CE2</h3>\n",
    "Gruppe: Alexander Bjerno & Christian Winkler"
   ]
  },
  {
   "cell_type": "code",
   "execution_count": 5,
   "metadata": {},
   "outputs": [],
   "source": [
    "import numpy as np\n",
    "import matplotlib.pyplot as plt\n"
   ]
  },
  {
   "cell_type": "markdown",
   "metadata": {},
   "source": [
    "<h3>(a)</h3>"
   ]
  },
  {
   "attachments": {},
   "cell_type": "markdown",
   "metadata": {},
   "source": [
    "Vi skal vise hvordan belysningsnieauet 0...599 er relateret til lysstyrken af lamperne, igennem et lineart ligningssystem hvorved vi skal opstille koefficientmatricen"
   ]
  },
  {
   "cell_type": "code",
   "execution_count": 6,
   "metadata": {},
   "outputs": [],
   "source": [
    "import numpy as np\n",
    "\n",
    "# Estimate lamp coordinates from diagram\n",
    "lamp_coords = np.array([\n",
    "    [2., 3., 3.], [4., 19., 3.], [4., 13., 3.6], [11., 6., 3.5], [15., 2., 4.5], [20., 5., 2.8],\n",
    "    [28., 9., 3.4], [12., 12., 4.], [23., 12., 4.], [16., 16., 3.], [25., 16., 3.8], [13., 18., 3.6]\n",
    "])\n",
    "\n",
    "#Insert lamp coordinates in the grid, first creates the 30*20 grid of zeroes, then fills with the lamp coordinates\n",
    "parking = np.zeros(shape = (30, 20))\n",
    "for x in lamp_coords:\n",
    "    parking[int(x[0]), int(x[1])] = x[2]\n",
    "    \n",
    "n = np.linspace(0.0, 599.00, 600)\n",
    "j = np.zeros(shape = (600, 2))\n",
    "\n",
    "#Assigning the parking space grid j\n",
    "for x in n:\n",
    "    j[int(x)] = np.array([x%30, int(x/30)])\n",
    "\n",
    "#Defining how to calculate the distance to the middle of each cell\n",
    "def d_ij(i, j):\n",
    "    distance = np.sqrt(abs(i[0] - (j[0] + 0.5))**2 + abs(i[1] - (j[1] + 0.5 ))**2 )**2 + i[2]**2\n",
    "    return distance\n",
    "\n",
    "A = np.zeros(shape = (600, 12))\n",
    "#Here we set up our koefficientmatrix A\n",
    "for k in n:\n",
    "    for a in range(12):\n",
    "        A[int(k), int(a)] = 1 / d_ij(lamp_coords[int(a)], j[int(k)])\n",
    "\n",
    "\n",
    "\n"
   ]
  },
  {
   "attachments": {},
   "cell_type": "markdown",
   "metadata": {},
   "source": [
    "<h3>(b)</h3> "
   ]
  },
  {
   "cell_type": "markdown",
   "metadata": {},
   "source": [
    "Now we have to make a heatplot of the parking space showing the lighting level"
   ]
  },
  {
   "cell_type": "code",
   "execution_count": 7,
   "metadata": {},
   "outputs": [
    {
     "data": {
      "text/plain": [
       "<matplotlib.colorbar.Colorbar at 0x1c5939680d0>"
      ]
     },
     "execution_count": 7,
     "metadata": {},
     "output_type": "execute_result"
    },
    {
     "data": {
      "image/png": "[encoded data removed]",
      "text/plain": [
       "<Figure size 640x480 with 2 Axes>"
      ]
     },
     "metadata": {},
     "output_type": "display_data"
    }
   ],
   "source": [
    "\n",
    "#Set light strength for all lamps to 20\n",
    "xi = np.ones((12,1))*20\n",
    "\n",
    "light_map = np.zeros(shape = (30, 20))\n",
    "#The lighting from a lamp on a tile i given by xi*1/d_ij^2 where A = 1/d_ij^2\n",
    "lighting = A @ xi\n",
    "#Plotting our light_map with the the lighting information\n",
    "for x in n:\n",
    "    light_map[int(j[int(x)][0]), int(j[int(x)][1])] = lighting[int(x)]\n",
    "    \n",
    "fig, ax = plt.subplots()\n",
    "im = (ax.matshow(light_map.T, cmap='coolwarm', origin='lower')) #Plotting the heatmap\n",
    "fig.colorbar(im)\n"
   ]
  },
  {
   "attachments": {},
   "cell_type": "markdown",
   "metadata": {},
   "source": [
    "<h3>(c)</h3>\n",
    "\n",
    "Brug den mindste kvadraters metode til at bestemme lystyrken for hver lampe saa at alle felternes belysning er saa taet paa 1 som muligt\n",
    "\n",
    "i) Brug QR dekomponering ved brug af Forbedret gram schmidt"
   ]
  },
  {
   "cell_type": "code",
   "execution_count": 146,
   "metadata": {},
   "outputs": [],
   "source": [
    "def forbedret_gram_schmidt(a):\n",
    "    _, k = a.shape\n",
    "    q = np.copy(a)\n",
    "    r = np.zeros((k, k))\n",
    "    for i in range(k):\n",
    "        r[i, i] = np.linalg.norm(q[:, i])\n",
    "        q[:, i] /= r[i, i]\n",
    "        r[[i], i+1:] = q[:, [i]].T @ q[:, i+1:]\n",
    "        q[:, i+1:] -= q[:, [i]] @ r[[i], i+1:]\n",
    "    return q, r\n",
    "\n",
    "def back_subs(r, c):\n",
    "    _, n = r.shape\n",
    "    x = np.empty((n, 1))\n",
    "    for i in reversed(range(n)):\n",
    "        x[i] = (c[i] - r[[i], i+1:] @ x[i+1:]) / r[i, i]\n",
    "    return x\n",
    "\n"
   ]
  },
  {
   "cell_type": "code",
   "execution_count": 148,
   "metadata": {},
   "outputs": [
    {
     "data": {
      "text/plain": [
       "array([[ 9.72995324],\n",
       "       [ 6.59020799],\n",
       "       [ 9.7631021 ],\n",
       "       [ 4.71630177],\n",
       "       [13.93604999],\n",
       "       [ 4.95914888],\n",
       "       [11.02673107],\n",
       "       [ 3.77650334],\n",
       "       [ 1.04416594],\n",
       "       [ 3.34691325],\n",
       "       [12.98248158],\n",
       "       [ 6.63304103]])"
      ]
     },
     "execution_count": 148,
     "metadata": {},
     "output_type": "execute_result"
    }
   ],
   "source": [
    "q, r = forbedret_gram_schmidt(A)\n",
    "desired_b = np.ones(shape=(600,1))\n",
    "c = q.T @ desired_b\n",
    "x_back = back_subs(r, c)\n",
    "\n",
    "x_back"
   ]
  },
  {
   "attachments": {},
   "cell_type": "markdown",
   "metadata": {},
   "source": [
    "ii) Brug SVD dekomponering"
   ]
  },
  {
   "cell_type": "code",
   "execution_count": 149,
   "metadata": {},
   "outputs": [
    {
     "data": {
      "text/plain": [
       "array([[ 9.72995324],\n",
       "       [ 6.59020799],\n",
       "       [ 9.7631021 ],\n",
       "       [ 4.71630177],\n",
       "       [13.93604999],\n",
       "       [ 4.95914888],\n",
       "       [11.02673107],\n",
       "       [ 3.77650334],\n",
       "       [ 1.04416594],\n",
       "       [ 3.34691325],\n",
       "       [12.98248158],\n",
       "       [ 6.63304103]])"
      ]
     },
     "execution_count": 149,
     "metadata": {},
     "output_type": "execute_result"
    }
   ],
   "source": [
    "u, s, vt = np.linalg.svd(A, full_matrices=False)\n",
    "x_svd = vt.T @ (np.diag(1/s)) @ (u.T @ desired_b)\n",
    "x_svd"
   ]
  },
  {
   "attachments": {},
   "cell_type": "markdown",
   "metadata": {},
   "source": [
    "<h3>(d)</h3>\n",
    "\n",
    "Lav heatmaps af resultaterne fra (c) og find den maksimalle afvigelse fra 1.\n",
    "\n",
    "Foerst heatmap fra gram schmidt metoden"
   ]
  },
  {
   "cell_type": "code",
   "execution_count": 154,
   "metadata": {},
   "outputs": [
    {
     "data": {
      "text/plain": [
       "<matplotlib.colorbar.Colorbar at 0x1c5970e59a0>"
      ]
     },
     "execution_count": 154,
     "metadata": {},
     "output_type": "execute_result"
    },
    {
     "data": {
      "image/png": "[encoded data removed]",
      "text/plain": [
       "<Figure size 640x480 with 2 Axes>"
      ]
     },
     "metadata": {},
     "output_type": "display_data"
    }
   ],
   "source": [
    "light_map2 = np.zeros(shape = (30, 20))\n",
    "lighting2 = A @ x_back #x_back contains the light strengths we found, using gram schmidt\n",
    "for x in n:\n",
    "    light_map2[int(j[int(x)][0]), int(j[int(x)][1])] = lighting2[int(x)]\n",
    "    \n",
    "fig, ax = plt.subplots()\n",
    "im = (ax.matshow(light_map2.T, cmap='coolwarm', origin='lower')) #Plotting the heatmap\n",
    "fig.colorbar(im)"
   ]
  },
  {
   "attachments": {},
   "cell_type": "markdown",
   "metadata": {},
   "source": [
    "Nu laver vi heatmappet for svd metoden"
   ]
  },
  {
   "cell_type": "code",
   "execution_count": 155,
   "metadata": {},
   "outputs": [
    {
     "data": {
      "text/plain": [
       "<matplotlib.colorbar.Colorbar at 0x1c5971cd670>"
      ]
     },
     "execution_count": 155,
     "metadata": {},
     "output_type": "execute_result"
    },
    {
     "data": {
      "image/png": "[encoded data removed]",
      "text/plain": [
       "<Figure size 640x480 with 2 Axes>"
      ]
     },
     "metadata": {},
     "output_type": "display_data"
    }
   ],
   "source": [
    "light_map3 = np.zeros(shape = (30, 20))\n",
    "lighting3 = A @ x_svd #x_svd contains the light strength found using svd\n",
    "for x in n:\n",
    "    light_map3[int(j[int(x)][0]), int(j[int(x)][1])] = lighting3[int(x)]\n",
    "    \n",
    "fig, ax = plt.subplots()\n",
    "im = (ax.matshow(light_map3.T, cmap='coolwarm', origin='lower')) #Plotting the heatmap\n",
    "fig.colorbar(im)"
   ]
  },
  {
   "attachments": {},
   "cell_type": "markdown",
   "metadata": {},
   "source": [
    "De to heatmaps ser identiske ud saa vidt jeg kan se hvilket ogsaa giver mening siden de begge gav x vaerdier der lignede hindanden"
   ]
  },
  {
   "attachments": {},
   "cell_type": "markdown",
   "metadata": {},
   "source": [
    "Nu skal vi regne ud den maksimalle afvigelse fra 1, og se hvor stor forskel der er mellem de to metoders resultater"
   ]
  },
  {
   "cell_type": "code",
   "execution_count": 160,
   "metadata": {},
   "outputs": [
    {
     "name": "stdout",
     "output_type": "stream",
     "text": [
      "0.03288407560544574\n",
      "0.0328840756054454\n"
     ]
    }
   ],
   "source": [
    "print(np.mean(1 - light_map2))\n",
    "print(np.mean(1 - light_map3))"
   ]
  },
  {
   "attachments": {},
   "cell_type": "markdown",
   "metadata": {},
   "source": [
    "Den stoerste afvigelse var fra gram schmidt metoden med, 0.03288407560544574, men det var ogsaa kun med 0.34*10^-15 i forskel fra svd metoden\n",
    "\n",
    "Saa her er der saadan set ingen forskel fra metoderne eftersom, vores resultater naesten er helt ens, der kan heller ikke ses nogen forskel paa heatmappet"
   ]
  },
  {
   "attachments": {},
   "cell_type": "markdown",
   "metadata": {},
   "source": [
    "<h3>(e)</h3>\n",
    "\n",
    "Beregn tallene 𝜅(𝐴), cos 𝜃 og 𝜂.\n",
    "\n",
    "Vi finder kappa_a cos_theta og eta, for brug af svd metoden, og derefter skal vi angive den tilsvarende øvre grænse for konditions-\n",
    "tallet for hvordan ændring i 𝐴 påvirker ændring i den beregnede 𝑥 i del (c).\n",
    "Og saa bruge dette til at forklare hvor nøjagtig vi kan forvente beregning af 𝑥 til at\n",
    "være."
   ]
  },
  {
   "attachments": {},
   "cell_type": "markdown",
   "metadata": {},
   "source": [
    "Jeg har her gjordt brug af metoderne beskrevet i notesaet 17"
   ]
  },
  {
   "cell_type": "code",
   "execution_count": 165,
   "metadata": {},
   "outputs": [
    {
     "name": "stdout",
     "output_type": "stream",
     "text": [
      "kappa_a = 7.495485563410548\n"
     ]
    }
   ],
   "source": [
    "u, s, vt = np.linalg.svd(A, full_matrices=False)\n",
    "kappa_a = s[0] / s[-1]\n",
    "print('kappa_a =', kappa_a)"
   ]
  },
  {
   "cell_type": "code",
   "execution_count": 167,
   "metadata": {},
   "outputs": [
    {
     "name": "stdout",
     "output_type": "stream",
     "text": [
      "cos_theta = 89.99717445986659\n"
     ]
    }
   ],
   "source": [
    "proj_b = u @ (u.T @ desired_b)\n",
    "cos_theta = np.linalg.norm(proj_b) / np.linalg.norm(b)\n",
    "print('cos_theta =', np.degrees(np.arccos(cos_theta)))"
   ]
  },
  {
   "cell_type": "code",
   "execution_count": 168,
   "metadata": {},
   "outputs": [
    {
     "name": "stdout",
     "output_type": "stream",
     "text": [
      "eta= 1.243018714435953\n"
     ]
    }
   ],
   "source": [
    "x = x_svd\n",
    "eta = s[0] * np.linalg.norm(x) / np.linalg.norm(proj_b)\n",
    "print('eta=', eta)"
   ]
  },
  {
   "cell_type": "code",
   "execution_count": 171,
   "metadata": {},
   "outputs": [
    {
     "name": "stdout",
     "output_type": "stream",
     "text": [
      "kond_x_b = 1.222766e+05\n",
      "kond_x_a_højst = 9.165298e+05\n"
     ]
    }
   ],
   "source": [
    "kond_x_b = kappa_a / (eta * cos_theta)\n",
    "kond_x_a_højst = (kappa_a + (kappa_a**2 * np.sqrt(1-cos_theta**2) / (eta * cos_theta)))\n",
    "print(f'{kond_x_b = :e}')\n",
    "print(f'{kond_x_a_højst = :e}')\n"
   ]
  },
  {
   "attachments": {},
   "cell_type": "markdown",
   "metadata": {},
   "source": [
    "Her har vi fundet den øvre grænse for konditions-tallet (kond_x_a_højst) som vi kan se er af en stoerrelse 10^5 som vi kan bruge til at finde ud af hvor stor en effekt aendringer i A har paa vores beregnede x fra (c)"
   ]
  },
  {
   "cell_type": "code",
   "execution_count": 177,
   "metadata": {},
   "outputs": [
    {
     "name": "stdout",
     "output_type": "stream",
     "text": [
      "1.192093e-02\n"
     ]
    }
   ],
   "source": [
    "print(f'{np.finfo(np.float32).eps * 10**5:e}')"
   ]
  },
  {
   "attachments": {},
   "cell_type": "markdown",
   "metadata": {},
   "source": [
    "Med svd metoden kan vi altsaa forvente et svar indenfor 10^-2 af det korrekte svar"
   ]
  },
  {
   "cell_type": "code",
   "execution_count": null,
   "metadata": {},
   "outputs": [],
   "source": []
  }
 ],
 "metadata": {
  "kernelspec": {
   "display_name": "Python 3.11.1 64-bit",
   "language": "python",
   "name": "python3"
  },
  "language_info": {
   "codemirror_mode": {
    "name": "ipython",
    "version": 3
   },
   "file_extension": ".py",
   "mimetype": "text/x-python",
   "name": "python",
   "nbconvert_exporter": "python",
   "pygments_lexer": "ipython3",
   "version": "3.9.13"
  },
  "orig_nbformat": 4,
  "vscode": {
   "interpreter": {
    "hash": "aee8b7b246df8f9039afb4144a1f6fd8d2ca17a180786b69acc140d282b71a49"
   }
  }
 },
 "nbformat": 4,
 "nbformat_minor": 2
}
